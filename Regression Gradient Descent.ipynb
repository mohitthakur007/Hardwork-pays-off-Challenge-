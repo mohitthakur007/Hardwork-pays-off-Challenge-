{
 "cells": [
  {
   "cell_type": "code",
   "execution_count": 1,
   "metadata": {},
   "outputs": [],
   "source": [
    "import matplotlib.pyplot as plt"
   ]
  },
  {
   "cell_type": "code",
   "execution_count": 2,
   "metadata": {},
   "outputs": [],
   "source": [
    "import numpy as np"
   ]
  },
  {
   "cell_type": "code",
   "execution_count": 3,
   "metadata": {},
   "outputs": [
    {
     "name": "stdout",
     "output_type": "stream",
     "text": [
      "(100,)\n"
     ]
    }
   ],
   "source": [
    "noise = np.random.randn(100) #Generates Points from standard normal distribution\n",
    "print(noise.shape)"
   ]
  },
  {
   "cell_type": "code",
   "execution_count": 4,
   "metadata": {},
   "outputs": [
    {
     "name": "stdout",
     "output_type": "stream",
     "text": [
      "(100,)\n"
     ]
    }
   ],
   "source": [
    "x = np.linspace(0,10,100)\n",
    "print(x.shape)"
   ]
  },
  {
   "cell_type": "code",
   "execution_count": 20,
   "metadata": {},
   "outputs": [
    {
     "data": {
      "image/png": "[encoded data removed]",
      "text/plain": [
       "<matplotlib.figure.Figure at 0x13ff810>"
      ]
     },
     "metadata": {},
     "output_type": "display_data"
    }
   ],
   "source": [
    "y = 2*x + 1 + noise\n",
    "\n",
    "x = (x-x.mean())/x.std()\n",
    "plt.scatter(x,y)\n",
    "plt.show()"
   ]
  },
  {
   "cell_type": "code",
   "execution_count": 21,
   "metadata": {},
   "outputs": [
    {
     "name": "stdout",
     "output_type": "stream",
     "text": [
      "(100,)\n",
      "(100,)\n",
      "(100, 2)\n",
      "[[ 1.         -1.71481604]\n",
      " [ 1.         -1.68017329]\n",
      " [ 1.         -1.64553055]\n",
      " [ 1.         -1.6108878 ]\n",
      " [ 1.         -1.57624505]\n",
      " [ 1.         -1.5416023 ]\n",
      " [ 1.         -1.50695955]\n",
      " [ 1.         -1.4723168 ]\n",
      " [ 1.         -1.43767406]\n",
      " [ 1.         -1.40303131]\n",
      " [ 1.         -1.36838856]\n",
      " [ 1.         -1.33374581]\n",
      " [ 1.         -1.29910306]\n",
      " [ 1.         -1.26446031]\n",
      " [ 1.         -1.22981757]\n",
      " [ 1.         -1.19517482]\n",
      " [ 1.         -1.16053207]\n",
      " [ 1.         -1.12588932]\n",
      " [ 1.         -1.09124657]\n",
      " [ 1.         -1.05660382]\n",
      " [ 1.         -1.02196108]\n",
      " [ 1.         -0.98731833]\n",
      " [ 1.         -0.95267558]\n",
      " [ 1.         -0.91803283]\n",
      " [ 1.         -0.88339008]\n",
      " [ 1.         -0.84874733]\n",
      " [ 1.         -0.81410459]\n",
      " [ 1.         -0.77946184]\n",
      " [ 1.         -0.74481909]\n",
      " [ 1.         -0.71017634]\n",
      " [ 1.         -0.67553359]\n",
      " [ 1.         -0.64089084]\n",
      " [ 1.         -0.6062481 ]\n",
      " [ 1.         -0.57160535]\n",
      " [ 1.         -0.5369626 ]\n",
      " [ 1.         -0.50231985]\n",
      " [ 1.         -0.4676771 ]\n",
      " [ 1.         -0.43303435]\n",
      " [ 1.         -0.39839161]\n",
      " [ 1.         -0.36374886]\n",
      " [ 1.         -0.32910611]\n",
      " [ 1.         -0.29446336]\n",
      " [ 1.         -0.25982061]\n",
      " [ 1.         -0.22517786]\n",
      " [ 1.         -0.19053512]\n",
      " [ 1.         -0.15589237]\n",
      " [ 1.         -0.12124962]\n",
      " [ 1.         -0.08660687]\n",
      " [ 1.         -0.05196412]\n",
      " [ 1.         -0.01732137]\n",
      " [ 1.          0.01732137]\n",
      " [ 1.          0.05196412]\n",
      " [ 1.          0.08660687]\n",
      " [ 1.          0.12124962]\n",
      " [ 1.          0.15589237]\n",
      " [ 1.          0.19053512]\n",
      " [ 1.          0.22517786]\n",
      " [ 1.          0.25982061]\n",
      " [ 1.          0.29446336]\n",
      " [ 1.          0.32910611]\n",
      " [ 1.          0.36374886]\n",
      " [ 1.          0.39839161]\n",
      " [ 1.          0.43303435]\n",
      " [ 1.          0.4676771 ]\n",
      " [ 1.          0.50231985]\n",
      " [ 1.          0.5369626 ]\n",
      " [ 1.          0.57160535]\n",
      " [ 1.          0.6062481 ]\n",
      " [ 1.          0.64089084]\n",
      " [ 1.          0.67553359]\n",
      " [ 1.          0.71017634]\n",
      " [ 1.          0.74481909]\n",
      " [ 1.          0.77946184]\n",
      " [ 1.          0.81410459]\n",
      " [ 1.          0.84874733]\n",
      " [ 1.          0.88339008]\n",
      " [ 1.          0.91803283]\n",
      " [ 1.          0.95267558]\n",
      " [ 1.          0.98731833]\n",
      " [ 1.          1.02196108]\n",
      " [ 1.          1.05660382]\n",
      " [ 1.          1.09124657]\n",
      " [ 1.          1.12588932]\n",
      " [ 1.          1.16053207]\n",
      " [ 1.          1.19517482]\n",
      " [ 1.          1.22981757]\n",
      " [ 1.          1.26446031]\n",
      " [ 1.          1.29910306]\n",
      " [ 1.          1.33374581]\n",
      " [ 1.          1.36838856]\n",
      " [ 1.          1.40303131]\n",
      " [ 1.          1.43767406]\n",
      " [ 1.          1.4723168 ]\n",
      " [ 1.          1.50695955]\n",
      " [ 1.          1.5416023 ]\n",
      " [ 1.          1.57624505]\n",
      " [ 1.          1.6108878 ]\n",
      " [ 1.          1.64553055]\n",
      " [ 1.          1.68017329]\n",
      " [ 1.          1.71481604]]\n"
     ]
    }
   ],
   "source": [
    "ones = np.ones(x.shape[0])\n",
    "print(ones.shape)\n",
    "print(x.shape)\n",
    "x = np.array(x)\n",
    "X = np.stack((ones,x),axis=1)\n",
    "print(X.shape)\n",
    "print(X)"
   ]
  },
  {
   "cell_type": "code",
   "execution_count": 123,
   "metadata": {},
   "outputs": [],
   "source": [
    "def hypothesis(x,theta):\n",
    "    return theta[1]*x + theta[0]\n",
    "    #return np.dot(theta,X)\n",
    "def gradient(x,y,theta):\n",
    "    \n",
    "    grad = np.array([0,0])\n",
    "    m = x.shape[0]\n",
    "    \n",
    "    for i in range(m):\n",
    "        hx = hypothesis(x[i],theta)\n",
    "        grad[1] += (hx-y[i])*x[i]\n",
    "        grad[0] += (hx-y[i])\n",
    "\n",
    "    return grad/m\n",
    "\n",
    "def error(x,y,theta):\n",
    "    \n",
    "    e = 0\n",
    "    for i in range(x.shape[0]):\n",
    "        e += (y[i] - hypothesis(x[i],theta))**2\n",
    "    \n",
    "    #print(type(e))\n",
    "    return 0.5*e/x.shape[0]\n",
    "\n",
    "def gradientDescent(x,y,lr=.01, threshold=0.001):\n",
    "    theta = np.array([0.1,0.2])\n",
    "    error_list = []\n",
    "    # Homework - define converge criteria to break the loop\n",
    "    # Change in error < threshold\n",
    "    for i in range(800): \n",
    "        grad = gradient(x,y,theta)\n",
    "        e = error(x,y,theta)\n",
    "        error_list.append(e)\n",
    "        theta[0] = theta[0] - lr*grad[0]\n",
    "        theta[1] = theta[1] - lr*grad[1]\n",
    "        \n",
    "    return theta,error_list  \n",
    "    "
   ]
  },
  {
   "cell_type": "code",
   "execution_count": 119,
   "metadata": {},
   "outputs": [
    {
     "data": {
      "image/png": "[encoded data removed]",
      "text/plain": [
       "<matplotlib.figure.Figure at 0xfcf190>"
      ]
     },
     "metadata": {},
     "output_type": "display_data"
    }
   ],
   "source": [
    "theta,err= gradientDescent(x,y)\n",
    "\n",
    "plt.scatter(x,y)\n",
    "xtest = np.linspace(-2,2,10)\n",
    "plt.plot(xtest,hypothesis(xtest,theta),color='orange')\n",
    "\n",
    "plt.show()"
   ]
  },
  {
   "cell_type": "code",
   "execution_count": 120,
   "metadata": {},
   "outputs": [
    {
     "data": {
      "image/png": "[encoded data removed]",
      "text/plain": [
       "<matplotlib.figure.Figure at 0x168dcd0>"
      ]
     },
     "metadata": {},
     "output_type": "display_data"
    },
    {
     "name": "stdout",
     "output_type": "stream",
     "text": [
      "[10.5147  6.0701]\n"
     ]
    }
   ],
   "source": [
    "plt.plot(err)\n",
    "plt.show()\n",
    "#print(error)\n",
    "print(theta)"
   ]
  },
  {
   "cell_type": "code",
   "execution_count": 124,
   "metadata": {},
   "outputs": [
    {
     "name": "stdout",
     "output_type": "stream",
     "text": [
      "0.709092132239836\n",
      "0.688659994752185\n"
     ]
    }
   ],
   "source": [
    "print(err[500])\n",
    "print(err[-1])"
   ]
  },
  {
   "cell_type": "code",
   "execution_count": null,
   "metadata": {},
   "outputs": [],
   "source": []
  }
 ],
 "metadata": {
  "kernelspec": {
   "display_name": "Python 3",
   "language": "python",
   "name": "python3"
  },
  "language_info": {
   "codemirror_mode": {
    "name": "ipython",
    "version": 3
   },
   "file_extension": ".py",
   "mimetype": "text/x-python",
   "name": "python",
   "nbconvert_exporter": "python",
   "pygments_lexer": "ipython3",
   "version": "3.6.4"
  }
 },
 "nbformat": 4,
 "nbformat_minor": 2
}
